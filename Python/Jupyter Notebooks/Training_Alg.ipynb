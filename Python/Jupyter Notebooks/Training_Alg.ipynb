{
  "nbformat": 4,
  "nbformat_minor": 0,
  "metadata": {
    "colab": {
      "name": "Training-Alg.ipynb",
      "provenance": []
    },
    "kernelspec": {
      "name": "python3",
      "display_name": "Python 3"
    },
    "language_info": {
      "name": "python"
    }
  },
  "cells": [
    {
      "cell_type": "code",
      "metadata": {
        "id": "2dVpjwWLzxyo"
      },
      "source": [
        "# Recebe 3 valores e indica o maior de todos os inseridos;\n",
        "\n",
        "numeros = list(map(int, input('Digite 3 valores em sequência: ').split()))\n",
        "print(f\"O maior nº é {max(numeros)} !\")"
      ],
      "execution_count": null,
      "outputs": []
    },
    {
      "cell_type": "code",
      "metadata": {
        "id": "PrAeFKKP4FDV"
      },
      "source": [
        "# Recebe 3 valores e apresenta a soma dos dois maiores inseridos;\n",
        "\n",
        "numeros = list(map(int, input('Digite 3 valores em sequência: ').split()))\n",
        "numeros.remove(min(numeros))\n",
        "\n",
        "print(f\"A soma dos 2 maiores números é {sum(numeros)} !\")"
      ],
      "execution_count": null,
      "outputs": []
    },
    {
      "cell_type": "code",
      "metadata": {
        "id": "PfcFrawBJL_C"
      },
      "source": [
        "# Calcula a quantidade de grãos que poderiam ser colocados em um \n",
        "# tabuleiro de xadrez, dobrando sua quantidade a cada quadrado\n",
        "# Ex: 1º 1 grão, 2º 2 grãos, 3º 4, ...\n",
        "# ps: ainda apresenta a soma;\n",
        "\n",
        "s = 1\n",
        "soma = []\n",
        "\n",
        "print(f'1: {s}')\n",
        "\n",
        "for x in range(1, 64):\n",
        "    s = s * 2\n",
        "    soma.append(s)\n",
        "    print(f'{x+1}: {s}')\n",
        "\n",
        "print(soma, \"\\n\", sum(soma))"
      ],
      "execution_count": null,
      "outputs": []
    }
  ]
}