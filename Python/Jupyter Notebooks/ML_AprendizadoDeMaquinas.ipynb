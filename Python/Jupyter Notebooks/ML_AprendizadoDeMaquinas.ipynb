{
  "nbformat": 4,
  "nbformat_minor": 0,
  "metadata": {
    "colab": {
      "name": "ML-AprendizadoDeMaquinas.ipynb",
      "provenance": [],
      "collapsed_sections": [
        "zgSr3-u0zHnO",
        "73lT-sohD7_K",
        "5Ip0imw6FExA",
        "HUfrtpiTFKWn",
        "eN9ys8g-Ol4Y"
      ]
    },
    "kernelspec": {
      "name": "python3",
      "display_name": "Python 3"
    }
  },
  "cells": [
    {
      "cell_type": "markdown",
      "metadata": {
        "id": "jyfnPTNh7h3W"
      },
      "source": [
        "# **Atividades de Machine Learning**\n",
        "## **Notes...** **Professor Edson de Souza Melo <3**"
      ]
    },
    {
      "cell_type": "markdown",
      "metadata": {
        "id": "q2KuFIIC70Gr"
      },
      "source": [
        "# **Atividade 01 - Python - Programa Delta.**\n",
        "\n",
        "lembrar:\n",
        "+ comandos básicos do Python."
      ]
    },
    {
      "cell_type": "markdown",
      "metadata": {
        "id": "jpZ65bT78b7j"
      },
      "source": [
        "## **Resposta**"
      ]
    },
    {
      "cell_type": "code",
      "metadata": {
        "id": "FfYZTI3OXWJH"
      },
      "source": [
        "#Calcule o delta da equação a seguir, realizando a entrada dos valores de (a, b e c) pelo teclado. Exemplo: x^2 + 12x - 13 = 0 (a=1, b=12 e c=-13).\n",
        "\n",
        "a = float(input('Valor de A: '))\n",
        "b = float(input('Valor de B: '))\n",
        "c = float(input('Valor de C: '))\n",
        "\n",
        "d = (b**2)-(4*a*c)\n",
        "\n",
        "print('Valor de D: {:.2f}'.format(d))"
      ],
      "execution_count": null,
      "outputs": []
    },
    {
      "cell_type": "markdown",
      "metadata": {
        "id": "3fMiOz72GOlp"
      },
      "source": [
        ""
      ]
    },
    {
      "cell_type": "markdown",
      "metadata": {
        "id": "3TsWx8eb-FlQ"
      },
      "source": [
        "# **Atividade 02 - Python - Programa Print.**\n",
        "lembrar:\n",
        "+ comandos básicos do Python."
      ]
    },
    {
      "cell_type": "markdown",
      "metadata": {
        "id": "Swz4w8RDAIV1"
      },
      "source": [
        "## **Resposta**"
      ]
    },
    {
      "cell_type": "code",
      "metadata": {
        "id": "JTbFhlk3AM9x"
      },
      "source": [
        "print('Meu primeiro programa em Python!!!')"
      ],
      "execution_count": null,
      "outputs": []
    },
    {
      "cell_type": "markdown",
      "metadata": {
        "id": "WiLcv0QTAw7c"
      },
      "source": [
        "# **Atividade 03 - Python - ''Escola''.**\n",
        "lembrar:\n",
        "+ comandos básicos do Python."
      ]
    },
    {
      "cell_type": "markdown",
      "metadata": {
        "id": "tNSRzxO8BVQY"
      },
      "source": [
        "## **Resposta**"
      ]
    },
    {
      "cell_type": "code",
      "metadata": {
        "id": "c1cvpl-OO2td",
        "colab": {
          "base_uri": "https://localhost:8080/",
          "height": 118
        },
        "outputId": "87e363a3-a93c-4935-defd-09890a3fa93f"
      },
      "source": [
        "# Alunos e Notas - Apenas Output.\n",
        "\n",
        "a1 = 'Ana Maria'\n",
        "a2 = 'José Carlos'\n",
        "a3 = 'Júlio Martins'\n",
        "a4 = 'Ubiratan Santos'\t\n",
        "n1 = 9.00\n",
        "n2 = 7.20\n",
        "n3 = 8.00\n",
        "n4 = 10.00\n",
        "\n",
        "print('Aluno:\\t\\t\\tNota:')\n",
        "print('------------------------------')\n",
        "print(a1,'\\t\\t',n1)\n",
        "print(a2,'\\t\\t',n2)\n",
        "print(a3,'\\t\\t',n3)\n",
        "print(a4,'\\t',n4)"
      ],
      "execution_count": null,
      "outputs": [
        {
          "output_type": "stream",
          "text": [
            "Aluno:\t\t\tNota:\n",
            "------------------------------\n",
            "Ana Maria \t\t 9.0\n",
            "José Carlos \t\t 7.2\n",
            "Júlio Martins \t\t 8.0\n",
            "Ubiratan Santos \t 10.0\n"
          ],
          "name": "stdout"
        }
      ]
    },
    {
      "cell_type": "markdown",
      "metadata": {
        "id": "2OBa1-5nOwa4"
      },
      "source": [
        "## **Obs**"
      ]
    },
    {
      "cell_type": "code",
      "metadata": {
        "id": "MEuMccaxBXEq"
      },
      "source": [
        "#Usando tabelação...\n",
        "\n",
        "nome1 = input('Informe o nome do aluno(a) 01: ')\n",
        "nome2 = input('Informe o nome do aluno(a) 02: ')\n",
        "nome3 = input('Informe o nome do aluno(a) 03: ')\n",
        "nome4 = input('Informe o nome do aluno(a) 04: ')\n",
        "n1 = float(input('Informe a nota do aluno(a) 01: '))\n",
        "n2 = float(input('Informe a nota do aluno(a) 02: '))\n",
        "n3 = float(input('Informe a nota do aluno(a) 03: '))\n",
        "n4 = float(input('Informe a nota do aluno(a) 04: '))\n",
        "print('\\n')\n",
        "\n",
        "def criartabela():\n",
        "\n",
        "    print(\"Aluno(a):\\t\\t\\tNota:\")\n",
        "    print('_____________________________________________')\n",
        "    print(\"%s\\t\\t\\t%.2f\" % (nome1, n1))\n",
        "    print(\"%s\\t\\t\\t%.2f\" % (nome2, n2))\n",
        "    print(\"%s\\t\\t\\t%.2f\" % (nome3, n3))\n",
        "    print(\"%s\\t\\t\\t%.2f\" % (nome4, n4))\n",
        "    print('_____________________________________________')\n",
        "\n",
        "criartabela()"
      ],
      "execution_count": null,
      "outputs": []
    },
    {
      "cell_type": "markdown",
      "metadata": {
        "id": "bNrLl2RVIhbt"
      },
      "source": [
        "## **Obs**"
      ]
    },
    {
      "cell_type": "code",
      "metadata": {
        "id": "fWWXB-OcIksE"
      },
      "source": [
        "# Aprendendo a como delimitar casas decimais com a sintaxe\n",
        "\n",
        "print(\"Aluno\", \"Nota\")\n",
        "print('')\n",
        "print(\"Ana Maria %.2f\" %9.0)\n",
        "print(\"José Carlos %.2f\" %7.2)\n",
        "print(\"Júlio Martins %.2f\" %8.0)\n",
        "print(\"Ubiratan Santos %.2f\" %10.0)"
      ],
      "execution_count": null,
      "outputs": []
    },
    {
      "cell_type": "markdown",
      "metadata": {
        "id": "78JEieb8Q0Mh"
      },
      "source": [
        "# **Atividade 04 - Python - Mat com Variáveis I.**\n",
        "lembrar:\n",
        "+ comandos básicos do Python."
      ]
    },
    {
      "cell_type": "markdown",
      "metadata": {
        "id": "NrshiGKgRJIq"
      },
      "source": [
        "## **Resposta**"
      ]
    },
    {
      "cell_type": "code",
      "metadata": {
        "id": "tubxWLD4RLCb"
      },
      "source": [
        "# Executando operações com plexas\n",
        "\n",
        "x = 10+20-30+(45*3)/8**2\n",
        "\n",
        "print('{:.2f}'.format(x))"
      ],
      "execution_count": null,
      "outputs": []
    },
    {
      "cell_type": "markdown",
      "metadata": {
        "id": "a4IbuDfXSbOF"
      },
      "source": [
        "## **Obs**"
      ]
    },
    {
      "cell_type": "code",
      "metadata": {
        "id": "cE2i3D3FSl7o"
      },
      "source": [
        "# Entendo os conceitos de váriaveis \n",
        "\n",
        "x1 = 45*3\n",
        "x2 = 8**2\n",
        "x3 = x1/x2\n",
        "x = 10+20-30+x\n",
        "print('{:.2f}'.format(x))"
      ],
      "execution_count": null,
      "outputs": []
    },
    {
      "cell_type": "markdown",
      "metadata": {
        "id": "s0qEd_CcUJeE"
      },
      "source": [
        "# **Atividade 05 - Python - Mat com Variáveis II.**\n",
        "lembrar:\n",
        "+ comandos básicos do Python."
      ]
    },
    {
      "cell_type": "markdown",
      "metadata": {
        "id": "lpEns8DEURI3"
      },
      "source": [
        "## **Resposta**"
      ]
    },
    {
      "cell_type": "code",
      "metadata": {
        "id": "xxrHuzUeUSVy"
      },
      "source": [
        "# Trabalhando com input\n",
        "\n",
        "x = float(input('Informe um valor: '))\n",
        "y = float(input('Informe outro valor: '))\n",
        "z = x + y\n",
        "\n",
        "print('A soma é: {}'.format(z))"
      ],
      "execution_count": null,
      "outputs": []
    },
    {
      "cell_type": "markdown",
      "metadata": {
        "id": "zgSr3-u0zHnO"
      },
      "source": [
        "# **Atividade 06 - Python - Tabuada.**\n",
        "lembrar:\n",
        "+ comandos básicos do Python."
      ]
    },
    {
      "cell_type": "markdown",
      "metadata": {
        "id": "HjCLdn_JzL7i"
      },
      "source": [
        "## **Resposta**"
      ]
    },
    {
      "cell_type": "code",
      "metadata": {
        "id": "jItAn6uWzdXx"
      },
      "source": [
        "x = int(input('Informe um valor: '))\n",
        "\n",
        "print('A tabuada de {} é:'.format(x))\n",
        "for x in range (x, x*11, x): \n",
        "  print(x)"
      ],
      "execution_count": null,
      "outputs": []
    },
    {
      "cell_type": "markdown",
      "metadata": {
        "id": "sApwHM0JDwEF"
      },
      "source": [
        "## **Obs**"
      ]
    },
    {
      "cell_type": "code",
      "metadata": {
        "id": "CqEqhNtGDy4f"
      },
      "source": [
        "tabuada = int(input('Digite qual tabuada deseja calcular\\n'))\n",
        "for n in range(1, 11):\n",
        "    print(tabuada, \"x\", n, \"=\", tabuada * n)"
      ],
      "execution_count": null,
      "outputs": []
    },
    {
      "cell_type": "markdown",
      "metadata": {
        "id": "73lT-sohD7_K"
      },
      "source": [
        "# **Atividade 07 - Python - Tabuada Específica.**\n",
        "lembrar:\n",
        "+ comandos básicos do Python."
      ]
    },
    {
      "cell_type": "markdown",
      "metadata": {
        "id": "ly8t5XihEAzr"
      },
      "source": [
        "## **Resposta**"
      ]
    },
    {
      "cell_type": "code",
      "metadata": {
        "id": "GW9G74rq49lE"
      },
      "source": [
        "#upgrade \n",
        "\n",
        "x = int(input('Informe um valor:\\n'))\n",
        "\n",
        "print('Os numeros pares da tabuada do {} são:'.format(x))\n",
        "for x in range (x, x*11, x):\n",
        "    if (x % 2) == 0:\n",
        "      print(x)\n",
        "print('Finalizado !')\n",
        "# a do prof tá bem melhor !!!"
      ],
      "execution_count": null,
      "outputs": []
    },
    {
      "cell_type": "markdown",
      "metadata": {
        "id": "BhmKamq6EkQG"
      },
      "source": [
        "obs"
      ]
    },
    {
      "cell_type": "code",
      "metadata": {
        "id": "p3Afk9pD-237"
      },
      "source": [
        "tabuada = int(input('Digite qual tabuada deseja calcular:\\n'))\n",
        "for n in range(1, 11):\n",
        "    if (tabuada * n) % 2 == 1:\n",
        "        print(tabuada, \"x\", n, \"=\", tabuada * n)"
      ],
      "execution_count": null,
      "outputs": []
    },
    {
      "cell_type": "markdown",
      "metadata": {
        "id": "5Ip0imw6FExA"
      },
      "source": [
        "# **Atividade 08 - Python - Cálculo.**\n",
        "lembrar:\n",
        "+ comandos básicos do Python."
      ]
    },
    {
      "cell_type": "markdown",
      "metadata": {
        "id": "pvfUE_dDFGuy"
      },
      "source": [
        "## **Resposta**"
      ]
    },
    {
      "cell_type": "code",
      "metadata": {
        "id": "QFM-5h7-FI0j"
      },
      "source": [
        "valor = 0\n",
        "soma = 0\n",
        "contador = 0\n",
        "\n",
        "while valor >= 0:\n",
        "    valor = int(input('Digite o valor: \\n'))\n",
        "    if valor >= 0:\n",
        "        contador += 1\n",
        "        soma += valor\n",
        "        \n",
        "print('')\n",
        "print('Soma dos valores..........:', soma)\n",
        "print('Total de valores digitados:', contador)\n",
        "print('Média dos valores.........:', soma/contador)"
      ],
      "execution_count": null,
      "outputs": []
    },
    {
      "cell_type": "markdown",
      "metadata": {
        "id": "QI5uralSNLDq"
      },
      "source": [
        "## **Meuu :(**"
      ]
    },
    {
      "cell_type": "code",
      "metadata": {
        "id": "fjgaIHnDKZAu"
      },
      "source": [
        "v = 0\n",
        "c = 0\n",
        "s = 0\n",
        "\n",
        "while (v >= 0):\n",
        "  v = float(input('Number: '))\n",
        "  if v >= 0:\n",
        "    c += 1\n",
        "    s += v\n",
        "\n",
        "print('')\n",
        "print('A quantidade de números:', c)\n",
        "print('A soma de todos os n°s:', s)\n",
        "print('A média deles é igual a:', s/c)"
      ],
      "execution_count": null,
      "outputs": []
    },
    {
      "cell_type": "markdown",
      "metadata": {
        "id": "HUfrtpiTFKWn"
      },
      "source": [
        "# **Atividade 09 - Python - IMC.**\n",
        "lembrar:\n",
        "+ comandos básicos do Python."
      ]
    },
    {
      "cell_type": "markdown",
      "metadata": {
        "id": "SDeT9tauFMBL"
      },
      "source": [
        "resposta"
      ]
    },
    {
      "cell_type": "code",
      "metadata": {
        "id": "Y7HWNz9M5zjY"
      },
      "source": [
        "p = float(input('Qual é o seu peso ?: '))\n",
        "a = float(input('Qual é a sua altura ?: '))\n",
        "imc = p / a**2\n",
        "\n",
        "print('')\n",
        "print('Seu IMC é : {:.2f} !'.format(imc))\n",
        "if imc < 18.5:\n",
        "  print('Abaixo do peso.')\n",
        "elif imc <= 24.9:\n",
        "  print('Peso normal.')\n",
        "elif imc < 29.9:\n",
        "  print('Sobre peso.')\n",
        "elif imc < 34.9:\n",
        "  print('Obesidade grau I')\n",
        "elif imc < 39.9:\n",
        "  print('Obesidade grau II')\n",
        "elif im > 40:\n",
        "  print('Obesidade grau III')"
      ],
      "execution_count": null,
      "outputs": []
    },
    {
      "cell_type": "markdown",
      "metadata": {
        "id": "Flxm7TeWFZSD"
      },
      "source": [
        "## **Obs**"
      ]
    },
    {
      "cell_type": "code",
      "metadata": {
        "id": "lp0cZpp7G7g1"
      },
      "source": [
        "peso = float(input('Peso: '))\n",
        "altura = float(input('Altura : '))\n",
        "imc = peso/(altura*altura)\n",
        "\n",
        "print('')\n",
        "status = ''\n",
        "if imc < 18.5:\n",
        "    status = 'Abaixo do peso'\n",
        "elif (imc > 18.5 and imc < 24.9):\n",
        "    status = 'Peso normal'\n",
        "elif (imc > 25 and imc < 29.9):\n",
        "    status = 'Sobrepeso'\n",
        "elif (imc > 30 and imc < 34.9):\n",
        "    status = 'Obesidade grau 1'\n",
        "elif (imc > 35 and imc < 39.9):\n",
        "    status = 'Obesidade grau 2'\n",
        "else:\n",
        "    status = 'Obesidade grau 3'\n",
        "\n",
        "print('Seu IMC é:', round(imc,2), \"(\",status,\")\")"
      ],
      "execution_count": null,
      "outputs": []
    },
    {
      "cell_type": "markdown",
      "metadata": {
        "id": "PyNNsQdeOl4Z"
      },
      "source": [
        "resposta"
      ]
    },
    {
      "cell_type": "code",
      "metadata": {
        "id": "OEtNIqpCOl4p"
      },
      "source": [
        "p = float(input('Qual é o seu peso ?: '))\n",
        "a = float(input('Qual é a sua altura ?: '))\n",
        "imc = p / a**2\n",
        "\n",
        "print('')\n",
        "print('Seu IMC é : {:.2f} !'.format(imc))\n",
        "if imc < 18.5:\n",
        "  print('Abaixo do peso.')\n",
        "elif imc <= 24.9:\n",
        "  print('Peso normal.')\n",
        "elif imc < 29.9:\n",
        "  print('Sobre peso.')\n",
        "elif imc < 34.9:\n",
        "  print('Obesidade grau I')\n",
        "elif imc < 39.9:\n",
        "  print('Obesidade grau II')\n",
        "elif im > 40:\n",
        "  print('Obesidade grau III')"
      ],
      "execution_count": null,
      "outputs": []
    },
    {
      "cell_type": "markdown",
      "metadata": {
        "id": "bAadHOdtOl41"
      },
      "source": [
        "## **Obs**"
      ]
    },
    {
      "cell_type": "code",
      "metadata": {
        "id": "UQMpDILXOl43"
      },
      "source": [
        "peso = float(input('Peso: '))\n",
        "altura = float(input('Altura : '))\n",
        "imc = peso/(altura*altura)\n",
        "\n",
        "print('')\n",
        "status = ''\n",
        "if imc < 18.5:\n",
        "    status = 'Abaixo do peso'\n",
        "elif (imc > 18.5 and imc < 24.9):\n",
        "    status = 'Peso normal'\n",
        "elif (imc > 25 and imc < 29.9):\n",
        "    status = 'Sobrepeso'\n",
        "elif (imc > 30 and imc < 34.9):\n",
        "    status = 'Obesidade grau 1'\n",
        "elif (imc > 35 and imc < 39.9):\n",
        "    status = 'Obesidade grau 2'\n",
        "else:\n",
        "    status = 'Obesidade grau 3'\n",
        "\n",
        "print('Seu IMC é:', round(imc,2), \"(\",status,\")\")"
      ],
      "execution_count": null,
      "outputs": []
    },
    {
      "cell_type": "markdown",
      "metadata": {
        "id": "4rd7QgxilDV5"
      },
      "source": [
        "## **obs aula **"
      ]
    },
    {
      "cell_type": "markdown",
      "metadata": {
        "id": "OyTPVbRolFYl"
      },
      "source": [
        ".index !!! mostra o indice do elemento dentro da lista "
      ]
    },
    {
      "cell_type": "code",
      "metadata": {
        "id": "-Zoic_kNlTEf"
      },
      "source": [
        "#ex\n",
        "'''lista = []\n",
        "print(lista.index, elemento da lista )'''\n",
        "# .sort() deixa em ordem crescente - ordenada - !\n",
        "#.reverse () deixa em ordem decrscente - deixa uma lista ao contrario !!! - !\n",
        "# só coloca a lisa de tras para frente !\n",
        "#para deixar em ordem decrescente, deve-se primeiro ordenar[.sort()] para depois usar o reverse !\n",
        "\n",
        "'''lis = [1, 11, 'str']\n",
        "'str' in lis '''\n",
        "#.insert(posiçao, elemento a ser adc)\n"
      ],
      "execution_count": null,
      "outputs": []
    },
    {
      "cell_type": "markdown",
      "metadata": {
        "id": "eN9ys8g-Ol4Y"
      },
      "source": [
        "# **Atividade 10 - Python - Lista Pessoas.**\n",
        "lembrar:\n",
        "+ comandos básicos do Python."
      ]
    },
    {
      "cell_type": "markdown",
      "metadata": {
        "id": "Qw_P4A7fOH_5"
      },
      "source": [
        "## **Resposta**"
      ]
    },
    {
      "cell_type": "code",
      "metadata": {
        "id": "VuiyxlYyx7Du"
      },
      "source": [
        "lista_pessoas = []\n",
        "lista_registro = []\n",
        "\n",
        "x = 'S'\n",
        "while x == 'S':\n",
        "  n = input('Informe o seu nome: ')\n",
        "  p = int(input('Informe o seu peso: '))\n",
        "  i = int(input('Informe a sua idade: '))\n",
        "  a = float(input('Informe a sua altura: '))\n",
        "  lista_registro.append([n, p, i, a])\n",
        "  x = input('Digite apenas S para continuar ou ENTER para finalizar... \\n').upper()\n",
        "\n",
        "for r in lista_registro:\n",
        "  lista_pessoas.append(r)\n",
        "\n",
        "list_idade = []\n",
        "list_peso = []\n",
        "\n",
        "#dava para ter feito com um só for!!!\n",
        "for idade in lista_pessoas:\n",
        "  list_idade.append(idade[2])\n",
        "\n",
        "for peso in lista_pessoas:\n",
        "  list_peso.append(peso[1])\n",
        "\n",
        "'''print()\n",
        "print(list_idade)\n",
        "print(list_peso)'''\n",
        "print()\n",
        "print('Maior idade:', max(list_idade))\n",
        "print('Menor idade:', min(list_idade))\n",
        "print('Média das idades:', sum(list_idade)/len(list_idade))\n",
        "print('Média dos pesos:', sum(list_peso)/len(list_peso))"
      ],
      "execution_count": null,
      "outputs": []
    },
    {
      "cell_type": "code",
      "metadata": {
        "id": "2_rG_g-AHtg1"
      },
      "source": [
        "'''x = 'S'\n",
        "while x == 'S':\n",
        "  p = input('Informe o seu nome : \\n')\n",
        "  lista_pessoa.append(p)\n",
        "\n",
        "  kg = input('Informe o seu peso: \\n')\n",
        "  lista_peso.append(kg)\n",
        "\n",
        "  i = input('Informe a sua idade: \\n')\n",
        "  lista_idade.append(i)\n",
        "\n",
        "  a = input('Informe a sua altura: \\n')\n",
        "  lista_altura.append(a)\n",
        "\n",
        "\n",
        "  x = input('Digite S para continuar').upper()\n",
        "  print('')'''\n",
        "'''\n",
        "print('Maior Idade:', max(lista_idade))\n",
        "print('Menor Idade:', min(lista_idade))\n",
        "print('Média das Idades:', sum(lista_idade)/len(lista_idade))\n",
        "print('Média dos pesos:')'''  "
      ],
      "execution_count": null,
      "outputs": []
    },
    {
      "cell_type": "code",
      "metadata": {
        "id": "D8CY5Mp_3h04"
      },
      "source": [
        "#caminho plausivel\n",
        "#tem que mostrar a maior idade, menor, media e media do peso de 10 pesoas\n",
        "pessoas = [\n",
        "            ['Edson', 49, 114, 1.76],\n",
        "            ['Maria', 35, 64, 1.62],\n",
        "            ['Kleber', 24, 67, 1.70],\n",
        "            ['João', 17, 60, 1.76],\n",
        "            ['Renato', 31, 89, 1.79],\n",
        "            ['Miguel', 12, 50, 1.59],\n",
        "            ['Ross', 38, 90, 1.85],\n",
        "            ['Amy', 35, 79, 1.73],\n",
        "            ['Jake', 37, 89, 1.79],\n",
        "            ['Boyle', 44, 80, 1.69]\n",
        "]\n",
        "\n",
        "list_idade = []\n",
        "list_peso = []\n",
        "\n",
        "for idade in pessoas:\n",
        "  list_idade.append(idade[1])\n",
        "\n",
        "for peso in pessoas:\n",
        "  list_peso.append(peso[2])\n",
        "\n",
        "print(list_idade)\n",
        "print(list_peso)\n",
        "print()\n",
        "print('Maior idade:', max(list_idade))\n",
        "print('Menor idade:', min(list_idade))\n",
        "print('Média das idades:', sum(list_idade)/len(list_idade))\n",
        "print('Média dos pesos:', sum(list_peso)/len(list_peso))"
      ],
      "execution_count": null,
      "outputs": []
    },
    {
      "cell_type": "markdown",
      "metadata": {
        "id": "n0Lxrz1hti0O"
      },
      "source": [
        "## **Obs**"
      ]
    },
    {
      "cell_type": "code",
      "metadata": {
        "id": "S_tQ0IGgtnsX"
      },
      "source": [
        "#caminho do prof\n",
        "pessoas = [\n",
        "           ['Edson', 49, 114, 1.76],\n",
        "           ['Maria', 35, 64, 1.68],\n",
        "           ['Jorge', 18, 95, 1.84],\n",
        "           ['Ana', 23, 48, 1.52]\n",
        "]\n",
        "\n",
        "quantidade = len(pessoas)\n",
        "#idades = []\n",
        "#pesos = []\n",
        "valores = []\n",
        "for pessoa in pessoas:\n",
        "  valores.insert(0, pessoa[1])\n",
        "  valores.append(pessoa[2])\n",
        "\n",
        "print('Maior:......', max(valores[:quantidade]))\n",
        "print('Menor:......', min(valores[:quantidade]))\n",
        "print('Média Idade:', sum(valores[:quantidade])/quantidade)\n",
        "print('Média Peso:.', sum(valores[quantidade:])/quantidade)\n",
        "#MUUUUUUUUUUITO FOOOOOODAAAAAAA !!\n",
        "'''pessoas = [\n",
        "    ['Edson', 49, 114, 1.76],\n",
        "    ['Maria', 35, 64, 1.62],\n",
        "    ['Jorge', 18, 95, 1.84],\n",
        "    ['Ana', 23, 48, 1.52]\n",
        "]\n",
        "valores = [49]\n",
        "valores = [49, 114]\n",
        "valores = [35, 49, 114, 64]\n",
        "valores = [18, 35, 49, 114, 64, 95]\n",
        "valores = [23, 18, 35, 49, 114, 64, 95, 48]\n",
        "idade => valores[:4] = [23, 18, 35, 49]\n",
        "pesos=> valores[4:] = [114, 64, 95, 48]'''"
      ],
      "execution_count": null,
      "outputs": []
    },
    {
      "cell_type": "markdown",
      "metadata": {
        "id": "ndPTjNDUuzUb"
      },
      "source": [
        "# **Atividade 10 - Python - DICT ALUNOS.**\n",
        "lembrar:\n",
        "+ comandos básicos do Python.\n",
        "+ ps: usar conceitos da atividade anterior."
      ]
    },
    {
      "cell_type": "markdown",
      "metadata": {
        "id": "WZUMTglquzUg"
      },
      "source": [
        "## **Resposta**"
      ]
    },
    {
      "cell_type": "code",
      "metadata": {
        "id": "Jzhn1oDEuzUi"
      },
      "source": [
        "alunos = []\n",
        "alunos.append({'nome': 'Aluno 01', 'curso': 'Ciências da Computação', 'AV1':8 })\n",
        "alunos.append({'nome': 'Aluno 02', 'curso': 'Sistemas de Informação', 'AV1':7 })\n",
        "alunos.append({'nome': 'Aluno 03', 'curso': 'Sistemas de Informação', 'AV1':6 })\n",
        "alunos.append({'nome': 'Aluno 04', 'curso': 'Sistemas de Informação', 'AV1':6 })\n",
        "alunos.append({'nome': 'Aluno 05', 'curso': 'Sistemas de Informação', 'AV1':6 })\n",
        "alunos.append({'nome': 'Aluno 06', 'curso': 'Análise e Desenvolvimento de Sistemas', 'AV1':7 })\n",
        "alunos.append({'nome': 'Aluno 07', 'curso': 'Análise e Desenvolvimento de Sistemas', 'AV1':9 })\n",
        "alunos.append({'nome': 'Aluno 08', 'curso': 'Ciências da Computação', 'AV1':10 })\n",
        "alunos.append({'nome': 'Aluno 09', 'curso': 'Ciências da Computação', 'AV1':10 })\n",
        "alunos.append({'nome': 'Aluno 10', 'curso': 'Ciências da Computação', 'AV1':4 })\n",
        "alunos.append({'nome': 'Aluno 11', 'curso': 'Análise e Desenvolvimento de Sistemas', 'AV1':5 })\n",
        "alunos.append({'nome': 'Aluno 11', 'curso': 'Análise e Desenvolvimento de Sistemas', 'AV1':5 })\n",
        "alunos.append({'nome': 'Aluno 12', 'curso': 'Análise e Desenvolvimento de Sistemas', 'AV1':9 })\n",
        "alunos.append({'nome': 'Aluno 13', 'curso': 'Análise e Desenvolvimento de Sistemas', 'AV1':9 })\n",
        "alunos.append({'nome': 'Aluno 14', 'curso': 'Ciências da Computação', 'AV1': 7})\n",
        "alunos.append({'nome': 'Aluno 15', 'curso': 'Análise e Desenvolvimento de Sistemas', 'AV1':7})\n",
        "alunos.append({'nome': 'Aluno 16', 'curso': 'Ciências da Computação', 'AV1': 6})\n",
        "alunos.append({'nome': 'Aluno 17', 'curso': 'Análise e Desenvolvimento de Sistemas', 'AV1':8 })\n",
        "alunos.append({'nome': 'Aluno 18', 'curso': 'Ciências da Computação', 'AV1':4 })\n",
        "alunos.append({'nome': 'Aluno 19', 'curso': 'Sistemas de Informação', 'AV1': 2})\n",
        "alunos.append({'nome': 'Aluno 20', 'curso': 'Análise e Desenvolvimento de Sistemas', 'AV1':9 })\n",
        "\n",
        "notas = []\n",
        "\n",
        "for entrada in alunos:\n",
        "    for aluno in entrada.keys():\n",
        "        m = (aluno, entrada[aluno])\n",
        "    notas.append(m[1])\n",
        "\n",
        "#print(len(notas)) teste ... Tá certo sim, tem dois aluno 11 :)\n",
        "print('Todas as Notas : \\n Maior Nota.....: ', max(notas), '\\n Menor Nota.....: ', min(notas), '\\n Média das Notas: {:.1f}'.format(sum(notas)/len(notas)))\n",
        "\n",
        "curso = []\n",
        "nota = []\n",
        "intervalo = 0\n",
        "\n",
        "for aluno in alunos:\n",
        "  curso.append(aluno['curso'])\n",
        "  nota.append(aluno['AV1'])\n",
        "  \n",
        "c = []#notas de ciencia da computação \n",
        "s = []#notas de sistema da informação\n",
        "a = []#notas de analise e desenvolvimento de sistemas\n",
        "\n",
        "while intervalo < len(alunos):\n",
        "  if curso[intervalo] == 'Ciências da Computação':\n",
        "    c.append(nota[intervalo])\n",
        "  if curso[intervalo] == 'Sistemas de Informação':\n",
        "    s.append(nota[intervalo])\n",
        "  if curso[intervalo] == 'Análise e Desenvolvimento de Sistemas':\n",
        "    a.append(nota[intervalo])\n",
        "  intervalo += 1\n",
        "\n",
        "ciencia = print('\\nCiências da Computação:\\n Maior Nota:', max(c), '\\n Menor Nota:', min(c), '\\n Média das Notas:', sum(c)/len(c))\n",
        "sistema = print('\\nSistemas de Informação:\\n Maior Nota:', max(s), '\\n Menor Nota:', min(s), '\\n Média das Notas:', sum(s)/len(s))\n",
        "analise = print('\\nAnálise e Desenvolvimento de Sistemas:\\n Maior Nota:', max(a), '\\n Menor Nota:', min(a), '\\n Média das Notas: {:.1f}'.format(sum(a)/len(a)))"
      ],
      "execution_count": null,
      "outputs": []
    },
    {
      "cell_type": "code",
      "metadata": {
        "id": "ZOVTlgH9qpQ5"
      },
      "source": [
        "alunos = []\n",
        "alunos.append({'nome': 'Aluno 01', 'curso': 'Ciências da Computação', 'AV1':8 })\n",
        "alunos.append({'nome': 'Aluno 02', 'curso': 'Sistemas de Informação', 'AV1':7 })\n",
        "alunos.append({'nome': 'Aluno 03', 'curso': 'Sistemas de Informação', 'AV1':6 })\n",
        "alunos.append({'nome': 'Aluno 04', 'curso': 'Sistemas de Informação', 'AV1':6 })\n",
        "alunos.append({'nome': 'Aluno 05', 'curso': 'Sistemas de Informação', 'AV1':6 })\n",
        "alunos.append({'nome': 'Aluno 06', 'curso': 'Análise e Desenvolvimento de Sistemas', 'AV1':7 })\n",
        "alunos.append({'nome': 'Aluno 07', 'curso': 'Análise e Desenvolvimento de Sistemas', 'AV1':9 })\n",
        "alunos.append({'nome': 'Aluno 08', 'curso': 'Ciências da Computação', 'AV1':10 })\n",
        "alunos.append({'nome': 'Aluno 09', 'curso': 'Ciências da Computação', 'AV1':10 })\n",
        "alunos.append({'nome': 'Aluno 10', 'curso': 'Ciências da Computação', 'AV1':4 })\n",
        "alunos.append({'nome': 'Aluno 11', 'curso': 'Análise e Desenvolvimento de Sistemas', 'AV1':5 })\n",
        "alunos.append({'nome': 'Aluno 11', 'curso': 'Análise e Desenvolvimento de Sistemas', 'AV1':5 })\n",
        "alunos.append({'nome': 'Aluno 12', 'curso': 'Análise e Desenvolvimento de Sistemas', 'AV1':9 })\n",
        "alunos.append({'nome': 'Aluno 13', 'curso': 'Análise e Desenvolvimento de Sistemas', 'AV1':9 })\n",
        "alunos.append({'nome': 'Aluno 14', 'curso': 'Ciências da Computação', 'AV1': 7})\n",
        "alunos.append({'nome': 'Aluno 15', 'curso': 'Análise e Desenvolvimento de Sistemas', 'AV1':7})\n",
        "alunos.append({'nome': 'Aluno 16', 'curso': 'Ciências da Computação', 'AV1': 6})\n",
        "alunos.append({'nome': 'Aluno 17', 'curso': 'Análise e Desenvolvimento de Sistemas', 'AV1':8 })\n",
        "alunos.append({'nome': 'Aluno 18', 'curso': 'Ciências da Computação', 'AV1':4 })\n",
        "alunos.append({'nome': 'Aluno 19', 'curso': 'Sistemas de Informação', 'AV1': 2})\n",
        "alunos.append({'nome': 'Aluno 20', 'curso': 'Análise e Desenvolvimento de Sistemas', 'AV1':9 })\n",
        "\n",
        "curso = []\n",
        "nota = []\n",
        "intervalo = 0\n",
        "\n",
        "for aluno in alunos:\n",
        "  curso.append(aluno['curso'])\n",
        "  nota.append(aluno['AV1'])\n",
        "  \n",
        "c = []#notas de ciencia da computação \n",
        "s = []#notas de sistema da informação\n",
        "a = []#notas de analise e desenvolvimento de sistemas\n",
        "\n",
        "while intervalo < len(alunos):\n",
        "  if curso[intervalo] == 'Ciências da Computação':\n",
        "    c.append(nota[intervalo])\n",
        "  if curso[intervalo] == 'Sistemas de Informação':\n",
        "    s.append(nota[intervalo])\n",
        "  if curso[intervalo] == 'Análise e Desenvolvimento de Sistemas':\n",
        "    a.append(nota[intervalo])\n",
        "  intervalo += 1\n",
        "\n",
        "print('Ciências da Computação:\\n Maior Nota:', max(c), '\\n Menor Nota:', min(c), '\\n Média das Notas:', sum(c)/len(c))\n",
        "print('\\nSistemas de Informação:\\n Maior Nota:', max(s), '\\n Menor Nota:', min(s), '\\n Média das Notas:', sum(s)/len(s))\n",
        "print('\\nAnálise e Desenvolvimento de Sistemas:\\n Maior Nota:', max(a), '\\n Menor Nota:', min(a), '\\n Média das Notas: {:.1f}'.format(sum(a)/len(a)))"
      ],
      "execution_count": null,
      "outputs": []
    },
    {
      "cell_type": "markdown",
      "metadata": {
        "id": "MHqA_tTYuzU-"
      },
      "source": [
        "\n",
        "## **Obs**"
      ]
    },
    {
      "cell_type": "code",
      "metadata": {
        "id": "3N7BZ9y23JD9"
      },
      "source": [
        "alunos = []\n",
        "alunos.append({'nome': 'Aluno 01', 'curso': 'Ciências da Computação', 'AV1':8 })\n",
        "alunos.append({'nome': 'Aluno 02', 'curso': 'Sistemas de Informação', 'AV1':7 })\n",
        "alunos.append({'nome': 'Aluno 03', 'curso': 'Sistemas de Informação', 'AV1':6 })\n",
        "alunos.append({'nome': 'Aluno 04', 'curso': 'Sistemas de Informação', 'AV1':6 })\n",
        "alunos.append({'nome': 'Aluno 05', 'curso': 'Sistemas de Informação', 'AV1':6 })\n",
        "alunos.append({'nome': 'Aluno 06', 'curso': 'Análise e Desenvolvimento de Sistemas', 'AV1':7 })\n",
        "alunos.append({'nome': 'Aluno 07', 'curso': 'Análise e Desenvolvimento de Sistemas', 'AV1':9 })\n",
        "alunos.append({'nome': 'Aluno 08', 'curso': 'Ciências da Computação', 'AV1':10 })\n",
        "alunos.append({'nome': 'Aluno 09', 'curso': 'Ciências da Computação', 'AV1':10 })\n",
        "alunos.append({'nome': 'Aluno 10', 'curso': 'Ciências da Computação', 'AV1':4 })\n",
        "alunos.append({'nome': 'Aluno 11', 'curso': 'Análise e Desenvolvimento de Sistemas', 'AV1':5 })\n",
        "alunos.append({'nome': 'Aluno 11', 'curso': 'Análise e Desenvolvimento de Sistemas', 'AV1':5 })\n",
        "alunos.append({'nome': 'Aluno 12', 'curso': 'Análise e Desenvolvimento de Sistemas', 'AV1':9 })\n",
        "alunos.append({'nome': 'Aluno 13', 'curso': 'Análise e Desenvolvimento de Sistemas', 'AV1':9 })\n",
        "alunos.append({'nome': 'Aluno 14', 'curso': 'Ciências da Computação', 'AV1': 7})\n",
        "alunos.append({'nome': 'Aluno 15', 'curso': 'Análise e Desenvolvimento de Sistemas', 'AV1':7})\n",
        "alunos.append({'nome': 'Aluno 16', 'curso': 'Ciências da Computação', 'AV1': 6})\n",
        "alunos.append({'nome': 'Aluno 17', 'curso': 'Análise e Desenvolvimento de Sistemas', 'AV1':8 })\n",
        "alunos.append({'nome': 'Aluno 18', 'curso': 'Ciências da Computação', 'AV1':4 })\n",
        "alunos.append({'nome': 'Aluno 19', 'curso': 'Sistemas de Informação', 'AV1': 2})\n",
        "alunos.append({'nome': 'Aluno 20', 'curso': 'Análise e Desenvolvimento de Sistemas', 'AV1':9 })\n",
        "\n",
        "\n",
        "\n",
        "\n",
        "notas = []\n",
        "\n",
        "for entrada in alunos:\n",
        "    for aluno in entrada.keys():\n",
        "        m = (aluno, entrada[aluno])\n",
        "    notas.append(m[1])\n",
        "\n",
        "\n",
        "\n",
        "def todas_notas():\n",
        "  print('Todas as Notas : \\n Maior Nota.....: ', max(notas), '\\n Menor Nota.....: ', min(notas), '\\n Média das Notas: {:.1f}'.format(sum(notas)/len(notas)))\n",
        "\n",
        "\n",
        "\n",
        "curso = []\n",
        "nota = []\n",
        "intervalo = 0\n",
        "\n",
        "for aluno in alunos:\n",
        "  curso.append(aluno['curso'])\n",
        "  nota.append(aluno['AV1'])\n",
        "  \n",
        "\n",
        "\n",
        "\n",
        "c = []#notas de ciencia da computação \n",
        "s = []#notas de sistema da informação\n",
        "a = []#notas de analise e desenvolvimento de sistemas\n",
        "\n",
        "while intervalo < len(alunos):\n",
        "  if curso[intervalo] == 'Ciências da Computação':\n",
        "    c.append(nota[intervalo])\n",
        "  if curso[intervalo] == 'Sistemas de Informação':\n",
        "    s.append(nota[intervalo])\n",
        "  if curso[intervalo] == 'Análise e Desenvolvimento de Sistemas':\n",
        "    a.append(nota[intervalo])\n",
        "  intervalo += 1\n",
        "\n",
        "\n",
        "\n",
        "\n",
        "def notas_ciencias():\n",
        "  print('\\nCiências da Computação:\\n Maior Nota:', max(c), '\\n Menor Nota:', min(c), '\\n Média das Notas:', sum(c)/len(c))\n",
        "def notas_sistema():\n",
        "  print('\\nSistemas de Informação:\\n Maior Nota:', max(s), '\\n Menor Nota:', min(s), '\\n Média das Notas:', sum(s)/len(s))\n",
        "def notas_analise():\n",
        "  print('\\nAnálise e Desenvolvimento de Sistemas:\\n Maior Nota:', max(a), '\\n Menor Nota:', min(a), '\\n Média das Notas: {:.1f}'.format(sum(a)/len(a)))\n",
        "def tudoo():\n",
        "  print(), todas_notas(), notas_ciencias(), notas_sistema(), notas_analise()\n",
        "print()\n",
        "\n",
        "\n",
        "\n",
        "notasx = input('Para acessar todas as notas, digite: \"N\" \\nPara acessar apenas as notas de Ciêcias da Computação, digite: \"C\" \\nPara acessar apenas as notas de Sistema da Informação, digite: \"S\" \\nPara acessar apenas as notas de Análise de Sistemas, digite: \"A\" \\nPara acessar tudo junto, digite: \"T\".\\n').upper()\n",
        "\n",
        "\n",
        "\n",
        "def sorr():\n",
        "  pp = 1\n",
        "  while pp == 1:\n",
        "    if notasx == 'T':\n",
        "      tudoo()\n",
        "      pp -=1 \n",
        "    elif notasx == 'N':\n",
        "      todas_notas()\n",
        "      pp -=1\n",
        "    elif notasx == 'C':\n",
        "      notas_ciencias()\n",
        "      pp -= 1\n",
        "    elif notasx == 'S':\n",
        "      notas_sistem()\n",
        "      pp -= 1\n",
        "    elif notasx == 'A':\n",
        "      notas_analise()\n",
        "      pp -=1 \n",
        "    #elif notasx != 'C' and 'A' and 'S' and 'N' and 'T':\n",
        "      #print('Informe um digito válido !!!')\n",
        "    else:\n",
        "      print('Informe um digito válido !!!')\n",
        "      break\n",
        "\n",
        "\n",
        "\n",
        "sorr()"
      ],
      "execution_count": null,
      "outputs": []
    },
    {
      "cell_type": "markdown",
      "metadata": {
        "id": "W_T4ySJTmDMz"
      },
      "source": [
        "# **COMPILADÃO DE ATIVIDADES DO GITHUB !!!! - Python - VÁRIAS COISAS !.**\n",
        "lembrar:\n",
        "+ ps: se atentar com as possibilidades da biblioteca."
      ]
    },
    {
      "cell_type": "markdown",
      "metadata": {
        "id": "ziSc3Uc01vyZ"
      },
      "source": [
        "## **Resposta**"
      ]
    },
    {
      "cell_type": "code",
      "metadata": {
        "id": "J4Mudzp2mCjC"
      },
      "source": [
        "def tabela_verdade(arg1, arg2):\n",
        "  \n",
        "  V = 1\n",
        "  F = 0\n",
        " \n",
        "  print()\n",
        "  print('|Valor({})| \\t|Valor({})|\\t|Sentença({}¬{})|\\t\\t|Sentença({}<->{})|\\t|Setença(({}->{})^¬{})|'.format(arg1,arg2,arg1,arg2,arg1,arg2,arg1,arg2,arg2))\n",
        "  print('----------------------------------------------------------------------------------------------------')\n",
        "  print('| {}\\t |\\t| {}\\t |\\t| {}\\t      |\\t\\t| {}\\t\\t|\\t| {}\\t\\t   |'.format(V,V,F,V,F))\n",
        "  print('| {}\\t |\\t| {}\\t |\\t| {}\\t      |\\t\\t| {}\\t\\t|\\t| {}\\t\\t   |'.format(V,F,V,F,V))\n",
        "  print('| {}\\t |\\t| {}\\t |\\t| {}\\t      |\\t\\t| {}\\t\\t|\\t| {}\\t\\t   |'.format(F,V,F,F,F))\n",
        "  print('| {}\\t |\\t| {}\\t |\\t| {}\\t      |\\t\\t| {}\\t\\t|\\t| {}\\t\\t   |'.format(F,F,F,V,V))\n",
        "\n",
        "\n",
        "p = input('Valor (Somente a inicial): ')\n",
        "q = input('Valor (Somente a inicial): ')\n",
        "tabela_verdade(p, q)"
      ],
      "execution_count": null,
      "outputs": []
    },
    {
      "cell_type": "code",
      "metadata": {
        "id": "4Int-QX5Eneb"
      },
      "source": [
        "#1\n",
        "'''n1 = int(input('Informe um N°: '))\n",
        "n2 = int(input('Informe outro N°: '))\n",
        "if n1 > n2:\n",
        "  print('O N° {} é o maior !'.format(n1))\n",
        "elif n2 > n1:\n",
        "  print('O N° {} é o maior !'.format(n2))\n",
        "else:\n",
        "  print('São iguais.')'''\n",
        "\n",
        "#2\n",
        "'''nn1 = int(input('Informe um valor: '))\n",
        "if nn1 > 0:\n",
        "  print('{} é positivo !'.format(nn1))\n",
        "elif nn1 < 0:\n",
        "  print('{} é negativo !'.format(nn1))\n",
        "else:\n",
        "  print('É zero...')'''\n",
        "\n",
        "#3\n",
        "'''lista_vogal = ['a','A','e','E','i','I','o','O','u','U']\n",
        "\n",
        "letra = str(input('Informe uma letra !: '))\n",
        "if letra in lista_vogal:\n",
        "  print('\"{}\" é uma vogal !'.format(letra))\n",
        "else:\n",
        "  print('\"{}\" é uma consoante !'.format(letra))'''\n",
        "\n",
        "#4\n",
        "'''v1 = int(input('Informe um valor para a comparação:\\n'))\n",
        "v2 = int(input('Informe outro valor para a comparação (diferente):\\n'))\n",
        "v3 = int(input('Informe só mais umzinho por favor (diferente):\\n'))\n",
        "lista_valores = [v1, v2, v3]\n",
        "\n",
        "print('O maior é: {}'.format(max(lista_valores)))'''\n",
        "\n",
        "#5\n",
        "'''v1 = int(input('Informe um valor para a comparação:\\n'))\n",
        "v2 = int(input('Informe outro valor para a comparação (diferente):\\n'))\n",
        "v3 = int(input('Informe só mais umzinho por favor (diferente):\\n'))\n",
        "lista_valores = [v1, v2, v3]\n",
        "\n",
        "print('O maior é \"{}\" e o menor é o \"{}\" !'.format(max(lista_valores), min(lista_valores)))'''\n",
        "\n",
        "#6\n",
        "'''p1 = float(input('Qual o preço do primeiro produto ?:\\n'))\n",
        "p2 = float(input('Qual o preço do segundo produto ?:\\n'))\n",
        "p3 = float(input('Qual o preço do terceiro produto ?:\\n'))\n",
        "lista_produtos = [p1,p2,p3]\n",
        "\n",
        "print()\n",
        "print('Você deve levar o Produto que custa: R${:.2f} !'.format(min(lista_produtos)))'''\n",
        "\n",
        "#7\n",
        "'''v1 = int(input('Informe um valor para a comparação:\\n'))\n",
        "v2 = int(input('Informe outro valor para a comparação (diferente):\\n'))\n",
        "v3 = int(input('Informe só mais umzinho por favor (diferente):\\n'))\n",
        "lista_valores = [v1, v2, v3]\n",
        "lista_valores.sort()\n",
        "\n",
        "print('Em ordem crescente: {}'.format(lista_valores))'''\n",
        "\n",
        "#8\n",
        "'''turno = input('Em qual turno você estuda ?(Digite M - Matutino, V - Vespertino ou N - Noturno):\\n').upper()\n",
        "if turno == 'M':\n",
        "  print('Tenha um Bom Dia <3')\n",
        "elif turno == 'V':\n",
        "  print('Tenha uma Boa Tarde S2')\n",
        "elif turno == 'N':\n",
        "  print('Tenha uma Boa Noite :3')\n",
        "else:\n",
        "  print('Informe um digito válido da próxima vez amorzinho :) !')'''\n",
        "  for x in qtd.values():\n",
        "  total_acumulado.append(x)\n",
        "\n",
        "print(sum(total_acumulado))"
      ],
      "execution_count": null,
      "outputs": []
    },
    {
      "cell_type": "code",
      "metadata": {
        "id": "6daTcSLWZblp"
      },
      "source": [
        "#Exercicio 9 ganhou espaço aqui pq é muito top !! <3 das 11h am até às 9h40 pm\n",
        "produtos = {'Azeitona':9.45,'Leite':3.34,'Açucar':2.12,'Farinha':4.67,'Fermento':1.88,'Vinagre':5.56}\n",
        "qtd = {'Azeitona':3,'Leite':12,'Açucar':10,'Farinha':2,'Fermento':4,'Vinagre':2}\n",
        "\n",
        "if qtd['Leite'] >= 4:\n",
        "  produtos['Leite'] = produtos['Leite'] - (produtos['Leite']*0.05)\n",
        "if qtd['Açucar'] > 10:\n",
        "  produtos['Açucar'] = produtos['Açucar'] - (produtos['Açucar']*0.03) \n",
        "if qtd['Vinagre'] >= 2:\n",
        "  produtos['Vinagre'] = produtos['Vinagre'] - (produtos['Vinagre']*0.10)\n",
        "\n",
        "qtd_produtos = {'Azeitona':produtos['Azeitona']*qtd['Azeitona'],'Leite':produtos['Leite']*qtd['Leite'],'Açucar':produtos['Açucar']*qtd['Açucar'],'Farinha':produtos['Farinha']*qtd['Farinha'],'Fermento':produtos['Fermento']*qtd['Fermento'],'Vinagre':produtos['Vinagre']*qtd['Vinagre']}\n",
        "total = []\n",
        "\n",
        "for x in qtd_produtos.values():\n",
        "  total.append(x)\n",
        "\n",
        "total_acumulado = sum(total)\n",
        "\n",
        "print('----------------------------------------\\nProdutos:\\n----------------------------------------\\nAzeitona: {}x R${:.2f}\\nLeite: {}x R${:.2f}\\nAçucar: {}x R${:.2f}\\nFarinha: {}x R${:.2f}\\nFermento: {}x R${:.2f}\\nVinagre: {}x R${:.2f}'.format(qtd['Azeitona'], produtos['Azeitona'], qtd['Leite'], produtos['Leite'], qtd['Açucar'], produtos['Açucar'], qtd['Farinha'], produtos['Farinha'], qtd['Fermento'], produtos['Fermento'], qtd['Vinagre'], produtos['Vinagre']))\n",
        "print('----------------------------------------\\nAcumulo por produto + Desconto incluso:\\n----------------------------------------\\nAzeitona: R${:.2f}\\nLeite: R${:.2f}\\nAçucar: R${:.2f}\\nFarinha: R${:.2f}\\nFermento: R${:.2f}\\nVinagre: R${:.2f}'.format(qtd_produtos['Azeitona'], qtd_produtos['Leite'], qtd_produtos['Açucar'], qtd_produtos['Farinha'], qtd_produtos['Fermento'], qtd_produtos['Vinagre']))\n",
        "print('----------------------------------------\\nO total da compra foi de: R${:.2f}\\n----------------------------------------'.format(total_acumulado))"
      ],
      "execution_count": null,
      "outputs": []
    },
    {
      "cell_type": "code",
      "metadata": {
        "id": "p_EWmY33rPZh"
      },
      "source": [
        "#Faça um Programa que pergunte quanto você ganha por hora e o número de horas trabalhadas no mês. Calcule e mostre o total do seu salário no referido mês, sabendo-se que são descontados 11% para o Imposto de Renda, 8% para o INSS e 5% para o sindicato, faça um programa que nos dê:\n",
        "#salário bruto.\n",
        "#quanto pagou ao INSS.\n",
        "#quanto pagou ao sindicato.\n",
        "#o salário líquido.\n",
        "#calcule os descontos e o salário líquido, conforme a tabela abaixo:\n",
        "#+ Salário Bruto : R$\n",
        "#- IR (11%) : R$\n",
        "#- INSS (8%) : R$\n",
        "#- Sindicato (5%) : R$\n",
        "#= Salário Liquido : R$\n",
        "\n",
        "ganho_hora = int(input('Por quantas horas você trabalha?: '))\n",
        "trabalho_hora = float(input('Ganha quanto por hora?: '))\n",
        "total_bruto = 30 * (ganho_hora*trabalho_hora)\n",
        "IR = total_bruto*0.11\n",
        "Sind = total_bruto*0.05\n",
        "INSS = total_bruto*0.08\n",
        "total_linq = total_bruto - IR - Sind - INSS\n",
        "\n",
        "print()\n",
        "print('Seu Salário Bruto é de: R${:.2f}.\\nPagou: R${:.2f} de Imposto de Renda.\\nPagou: R${:.2f} ao Sindicato.\\nPagou: R${:.2f} de INSS.\\nSeu Salário Liquido é de: R${:.2f}'.format(total_bruto, IR, Sind, INSS, total_linq))"
      ],
      "execution_count": null,
      "outputs": []
    },
    {
      "cell_type": "markdown",
      "metadata": {
        "id": "DGx992mfiOpf"
      },
      "source": [
        "# **COMPILADÃO DE PROJETOS !!!! - Python - VÁRIAS COISAS <3 !.**\n",
        "lembrar:\n",
        "+ ps: se atentar com as possibilidades da biblioteca."
      ]
    },
    {
      "cell_type": "markdown",
      "metadata": {
        "id": "xoJKfautiINn"
      },
      "source": [
        "SNAKE GAME !! "
      ]
    },
    {
      "cell_type": "code",
      "metadata": {
        "id": "3SLzCqTTiZFS"
      },
      "source": [
        "import random\n",
        "import curses\n",
        "\n",
        "\n",
        "s = curses.initscr()\n",
        "curses.curs_set(0)\n",
        "sh, sw = s.getmaxyx()\n",
        "w = curses.newwin(sh, sw, 0, 0)\n",
        "w.keypad(1)\n",
        "w.timeout(100)\n",
        "\n",
        "\n",
        "snk_x = sw/4\n",
        "snk_y = sh/4\n",
        "snake = [\n",
        "         [snk_y, snk_x],\n",
        "         [snk_y, snk_x-1],\n",
        "         [snk_y, snk_x-2]\n",
        "]\n",
        "\n",
        "food = [sh/2, sw/2]\n",
        "w.addch(food[0], food[1], curses.ACS_PI\n",
        "\n",
        "key = curses.KEY_RIGHT\n",
        "\n",
        "while True:\n",
        "  next_key = w.getch()\n",
        "  key = key if next_key == -1 else nextke_key\n",
        "\n",
        "  if snake[0][0] in [0, sh] or snake[0][1] in [0, sw] or snake[0] in snake[1:]:\n",
        "    curses.ednwin()\n",
        "    quit()\n",
        "\n",
        "  new_head [snake[0][0], snaek [0][1]]\n",
        "\n",
        "  if key == curses.KEY_DOWN:\n",
        "    new_head[0] += 1\n",
        "  if key == curses.KEY_UP:\n",
        "    new_head[0] -= 1\n",
        "  if key == curses.KEY_LEFT:\n",
        "    new_head[1] -= 1\n",
        "  if key == curses.KEY_RIGHT:\n",
        "    new_head[1] = 1\n",
        "\n",
        "  snake.insert(0, new_head)\n",
        "\n",
        "  if snake[0] == food:\n",
        "    food = None\n",
        "    while food is None:\n",
        "      nf = [\n",
        "            random.randint(1, sh-1),\n",
        "            random.randint(1, sw-1)\n",
        "      ]\n",
        "      food = nf if nf not in snake else None\n",
        "    w.addch(food[0], food[1], curses.ACS_PI)\n",
        "  else:\n",
        "    tail = snake.pop()\n",
        "    w.addch(tail[0], tail[1], ' ')\n",
        "\n",
        "  w.addch(snake[0][0], snake[0][1], curse.ACS_CKBOARD)"
      ],
      "execution_count": null,
      "outputs": []
    }
  ]
}